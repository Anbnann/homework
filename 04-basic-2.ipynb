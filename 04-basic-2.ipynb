{
 "cells": [
  {
   "cell_type": "code",
   "execution_count": 24,
   "metadata": {},
   "outputs": [
    {
     "name": "stdout",
     "output_type": "stream",
     "text": [
      "找到学生的GitHub库位置：https://github.com/bob\n"
     ]
    }
   ],
   "source": [
    "students = [  \n",
    "    {\"name\": \"Alice\", \"github_url\": \"https://github.com/alice\"},  \n",
    "    {\"name\": \"Bob\", \"github_url\": \"https://github.com/bob\"},  \n",
    "    {\"name\": \"Charlie\", \"github_url\": \"https://github.com/charlie\"}  \n",
    "]  \n",
    "  \n",
    "target_student = \"Bob\"  \n",
    "  \n",
    "for student in students:  \n",
    "    if student[\"name\"] == target_student:  \n",
    "        print(f\"找到学生的GitHub库位置：{student['github_url']}\")  \n",
    "        break  \n",
    "else:  \n",
    "    print(\"未找到指定学生的GitHub库位置\")"
   ]
  },
  {
   "cell_type": "code",
   "execution_count": 27,
   "metadata": {},
   "outputs": [],
   "source": [
    "def get_repo_by_name(name,date):\n",
    "    for i in date:\n",
    "        if i['name']==name:\n",
    "            print('github仓库地址')"
   ]
  },
  {
   "cell_type": "code",
   "execution_count": 28,
   "metadata": {},
   "outputs": [
    {
     "name": "stdout",
     "output_type": "stream",
     "text": [
      "github仓库地址\n",
      "None\n"
     ]
    }
   ],
   "source": [
    "print(get_repo_by_name(name='Bob',date=students))"
   ]
  }
 ],
 "metadata": {
  "kernelspec": {
   "display_name": "Python 3",
   "language": "python",
   "name": "python3"
  },
  "language_info": {
   "codemirror_mode": {
    "name": "ipython",
    "version": 3
   },
   "file_extension": ".py",
   "mimetype": "text/x-python",
   "name": "python",
   "nbconvert_exporter": "python",
   "pygments_lexer": "ipython3",
   "version": "3.8.10"
  },
  "orig_nbformat": 4
 },
 "nbformat": 4,
 "nbformat_minor": 2
}
