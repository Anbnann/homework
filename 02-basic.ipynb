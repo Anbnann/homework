{
 "cells": [
  {
   "cell_type": "code",
   "execution_count": 14,
   "metadata": {},
   "outputs": [
    {
     "name": "stdout",
     "output_type": "stream",
     "text": [
      "第一次作业\n"
     ]
    }
   ],
   "source": [
    "print('第一次作业')"
   ]
  },
  {
   "cell_type": "code",
   "execution_count": 15,
   "metadata": {},
   "outputs": [
    {
     "data": {
      "text/plain": [
       "'\\n这是一个注释\\n芜湖~\\n'"
      ]
     },
     "execution_count": 15,
     "metadata": {},
     "output_type": "execute_result"
    }
   ],
   "source": [
    "#这是一个注释\n",
    "'''\n",
    "这是一个注释\n",
    "芜湖~\n",
    "'''"
   ]
  },
  {
   "cell_type": "code",
   "execution_count": 16,
   "metadata": {},
   "outputs": [
    {
     "name": "stdout",
     "output_type": "stream",
     "text": [
      "1111123\n",
      "<class 'str'>\n"
     ]
    }
   ],
   "source": [
    "#条件值\n",
    "money=1000000\n",
    "现在资金=print(money+111123)\n",
    "print(type('现在资金'))"
   ]
  },
  {
   "cell_type": "code",
   "execution_count": 17,
   "metadata": {},
   "outputs": [
    {
     "name": "stdout",
     "output_type": "stream",
     "text": [
      "亮亮使用龙骨剑斩杀了恶龙\n"
     ]
    }
   ],
   "source": [
    "#亮亮冒险记\n",
    "name='亮亮'\n",
    "sword='龙骨剑'\n",
    "thing='恶龙'\n",
    "print(name+'使用'+sword+'斩杀了'+thing)"
   ]
  },
  {
   "cell_type": "code",
   "execution_count": 18,
   "metadata": {},
   "outputs": [
    {
     "name": "stdout",
     "output_type": "stream",
     "text": [
      "<class 'tuple'>\n",
      "<class 'set'>\n",
      "<class 'list'>\n",
      "<class 'dict'>\n",
      "<class 'bool'>\n"
     ]
    }
   ],
   "source": [
    "#其他\n",
    "a=(1,2,3)\n",
    "print(type(a))\n",
    "b={1,2,3}\n",
    "print(type(b))\n",
    "c=[1,2,3]\n",
    "print(type(c))\n",
    "d={'姓名':'亮亮','性别':'男'}\n",
    "print(type(d))\n",
    "e=False\n",
    "print(type(e))"
   ]
  }
 ],
 "metadata": {
  "kernelspec": {
   "display_name": "Python 3",
   "language": "python",
   "name": "python3"
  },
  "language_info": {
   "codemirror_mode": {
    "name": "ipython",
    "version": 3
   },
   "file_extension": ".py",
   "mimetype": "text/x-python",
   "name": "python",
   "nbconvert_exporter": "python",
   "pygments_lexer": "ipython3",
   "version": "3.8.10"
  },
  "orig_nbformat": 4
 },
 "nbformat": 4,
 "nbformat_minor": 2
}
